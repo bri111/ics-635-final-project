{
  "cells": [
    {
      "cell_type": "code",
      "execution_count": null,
      "metadata": {
        "id": "8_slXRHvLvc8"
      },
      "outputs": [],
      "source": [
        "# === prerequisites ===\n",
        "# pip install imbalanced-learn xgboost optuna openml\n",
        "\n",
        "import pandas as pd\n",
        "import numpy as np\n",
        "import optuna\n",
        "from sklearn.datasets import fetch_openml\n",
        "from sklearn.model_selection import train_test_split, cross_val_score\n",
        "from sklearn.compose import ColumnTransformer\n",
        "from sklearn.pipeline import Pipeline\n",
        "from sklearn.preprocessing import StandardScaler, OneHotEncoder, FunctionTransformer\n",
        "from imblearn.pipeline import Pipeline as ImbPipeline\n",
        "from imblearn.over_sampling import SMOTE\n",
        "from sklearn.decomposition import PCA\n",
        "from sklearn.ensemble import RandomForestClassifier, StackingClassifier\n",
        "from xgboost import XGBClassifier\n",
        "from sklearn.neural_network import MLPClassifier\n",
        "from sklearn.linear_model import LogisticRegression"
      ]
    },
    {
      "cell_type": "code",
      "execution_count": null,
      "metadata": {
        "colab": {
          "base_uri": "https://localhost:8080/"
        },
        "id": "iEZGc_FnMp_R",
        "outputId": "be4a9473-d553-4175-f96c-29f2ac01c8df"
      },
      "outputs": [
        {
          "name": "stdout",
          "output_type": "stream",
          "text": [
            "Features shape: (4424, 36), Target shape: (4424, 1)\n",
            "['Marital Status', 'Application mode', 'Application order', 'Course', 'Daytime/evening attendance', 'Previous qualification', 'Previous qualification (grade)', 'Nacionality', \"Mother's qualification\", \"Father's qualification\", \"Mother's occupation\", \"Father's occupation\", 'Admission grade', 'Displaced', 'Educational special needs', 'Debtor', 'Tuition fees up to date', 'Gender', 'Scholarship holder', 'Age at enrollment', 'International', 'Curricular units 1st sem (credited)', 'Curricular units 1st sem (enrolled)', 'Curricular units 1st sem (evaluations)', 'Curricular units 1st sem (approved)', 'Curricular units 1st sem (grade)', 'Curricular units 1st sem (without evaluations)', 'Curricular units 2nd sem (credited)', 'Curricular units 2nd sem (enrolled)', 'Curricular units 2nd sem (evaluations)', 'Curricular units 2nd sem (approved)', 'Curricular units 2nd sem (grade)', 'Curricular units 2nd sem (without evaluations)', 'Unemployment rate', 'Inflation rate', 'GDP']\n"
          ]
        }
      ],
      "source": [
        "from sklearn.datasets import fetch_openml\n",
        "from sklearn.model_selection import train_test_split\n",
        "from ucimlrepo import fetch_ucirepo\n",
        "import pandas as pd\n",
        "\n",
        "dataset = fetch_ucirepo(id=697)\n",
        "X = dataset.data.features\n",
        "y = dataset.data.targets\n",
        "print(f\"Features shape: {X.shape}, Target shape: {y.shape}\")\n",
        "\n",
        "print(X.columns.tolist())\n"
      ]
    },
    {
      "cell_type": "code",
      "execution_count": null,
      "metadata": {
        "colab": {
          "base_uri": "https://localhost:8080/"
        },
        "id": "NfwYLRYtZAZj",
        "outputId": "302d7777-53ed-4a70-9b15-11ab7edf8572"
      },
      "outputs": [
        {
          "name": "stdout",
          "output_type": "stream",
          "text": [
            "Train: (3539, 36), Test: (885, 36)\n",
            "Train: (3539, 36) (80.0%), Test: (885, 36) (20.0%)\n"
          ]
        },
        {
          "name": "stderr",
          "output_type": "stream",
          "text": [
            "/usr/local/lib/python3.11/dist-packages/sklearn/preprocessing/_label.py:110: DataConversionWarning: A column-vector y was passed when a 1d array was expected. Please change the shape of y to (n_samples, ), for example using ravel().\n",
            "  y = column_or_1d(y, warn=True)\n"
          ]
        }
      ],
      "source": [
        "# Simple preprocessing: encode targets and split\n",
        "from sklearn.preprocessing import LabelEncoder\n",
        "le = LabelEncoder()\n",
        "y_enc = le.fit_transform(y)\n",
        "\n",
        "# Train/test split (stratified)\n",
        "X_train, X_test, y_train, y_test = train_test_split(\n",
        "    X, y_enc, test_size=0.2, random_state=42, stratify=y_enc\n",
        ")\n",
        "print(f\"Train: {X_train.shape}, Test: {X_test.shape}\")\n",
        "\n",
        "# After your split...\n",
        "total = X.shape[0]\n",
        "train_pct = X_train.shape[0] / total * 100\n",
        "test_pct  = X_test.shape[0]  / total * 100\n",
        "\n",
        "print(f\"Train: {X_train.shape} ({train_pct:.1f}%), Test: {X_test.shape} ({test_pct:.1f}%)\")"
      ]
    },
    {
      "cell_type": "code",
      "execution_count": null,
      "metadata": {
        "colab": {
          "base_uri": "https://localhost:8080/",
          "height": 833
        },
        "id": "Jq3nU5E6PJSI",
        "outputId": "60bb5784-cc88-4638-9598-c51879c3c7e1"
      },
      "outputs": [
        {
          "data": {
            "image/png": "[encoded data removed]",
            "text/plain": [
              "<Figure size 800x600 with 1 Axes>"
            ]
          },
          "metadata": {},
          "output_type": "display_data"
        },
        {
          "name": "stdout",
          "output_type": "stream",
          "text": [
            "Current counts per class:\n",
            "outcome\n",
            "Graduate    2209\n",
            "Dropout     1421\n",
            "Enrolled     794\n",
            "Name: count, dtype: int64\n",
            "\n",
            "Additional samples needed to balance all classes to 2209 each:\n",
            "outcome\n",
            "Graduate       0\n",
            "Dropout      788\n",
            "Enrolled    1415\n",
            "Name: count, dtype: int64\n"
          ]
        }
      ],
      "source": [
        "import matplotlib.pyplot as plt\n",
        "import seaborn as sns\n",
        "import pandas as pd\n",
        "\n",
        "# 1) Build a DataFrame for the raw labels (before encoding)\n",
        "df_labels = pd.DataFrame({'outcome': le.inverse_transform(y_enc)})\n",
        "\n",
        "# 2) Plot the class distribution\n",
        "plt.figure(figsize=(8, 6))\n",
        "sns.countplot(\n",
        "    x='outcome',\n",
        "    data=df_labels,\n",
        "    order=df_labels['outcome'].value_counts().index\n",
        ")\n",
        "plt.title('Raw Class Distribution')\n",
        "plt.xlabel('Outcome')\n",
        "plt.ylabel('Count')\n",
        "plt.tight_layout()\n",
        "plt.show()\n",
        "\n",
        "# 3) Compute counts per class\n",
        "counts = df_labels['outcome'].value_counts()\n",
        "print(\"Current counts per class:\")\n",
        "print(counts)\n",
        "\n",
        "# 4) How many to add to match the largest class\n",
        "max_count = counts.max()\n",
        "needed = max_count - counts\n",
        "print(\"\\nAdditional samples needed to balance all classes to\", max_count, \"each:\")\n",
        "print(needed)\n"
      ]
    },
    {
      "cell_type": "code",
      "execution_count": null,
      "metadata": {
        "colab": {
          "base_uri": "https://localhost:8080/"
        },
        "id": "nMgprmQOdaCH",
        "outputId": "d17d2096-5880-4b1f-dc42-8a0f50db0c1f"
      },
      "outputs": [
        {
          "name": "stdout",
          "output_type": "stream",
          "text": [
            "Unique y_train values: [0 1 2]\n",
            "Labels already numeric, skipping map.\n",
            "Encoded train counts: Counter({np.int64(2): 1767, np.int64(0): 1137, np.int64(1): 635})\n",
            "Encoded test  counts: Counter({np.int64(2): 442, np.int64(0): 284, np.int64(1): 159})\n",
            "\n",
            "Before SMOTE: Counter({np.int64(2): 1767, np.int64(0): 1137, np.int64(1): 635})\n",
            "After SMOTE:  Counter({np.int64(2): 1767, np.int64(0): 1767, np.int64(1): 1767})\n",
            "\n",
            "Full dataset counts:\n",
            "outcome\n",
            "Dropout     1421\n",
            "Enrolled     794\n",
            "Graduate    2209\n",
            "Name: count, dtype: int64\n",
            "\n",
            "Training split counts (80% stratified):\n",
            "outcome\n",
            "0    1137\n",
            "1     635\n",
            "2    1767\n",
            "Name: count, dtype: int64\n",
            "\n",
            "After SMOTE (all up-sampled to majority class):\n",
            "outcome\n",
            "0    1767\n",
            "1    1767\n",
            "2    1767\n",
            "Name: count, dtype: int64\n"
          ]
        }
      ],
      "source": [
        "import numpy as np\n",
        "import pandas as pd\n",
        "from collections import Counter\n",
        "from imblearn.over_sampling import SMOTE\n",
        "from sklearn.model_selection import train_test_split, StratifiedKFold, cross_val_score\n",
        "\n",
        "# ─── A) After you’ve done your stratified split ───\n",
        "#    (you already have X_train, X_test as DataFrames,\n",
        "#     y_train, y_test as numpy arrays or lists of strings)\n",
        "\n",
        "import numpy as np\n",
        "\n",
        "# After your train_test_split → you have y_train, y_test as numpy arrays\n",
        "\n",
        "# 1) Inspect the unique values\n",
        "unique_vals = np.unique(y_train)\n",
        "print(\"Unique y_train values:\", unique_vals)\n",
        "\n",
        "# 2) If they're already in {0,1,2}, just cast to int and move on;\n",
        "#    otherwise wrap+map as before.\n",
        "if set(unique_vals).issubset({0, 1, 2}):\n",
        "    y_train_enc = y_train.astype(int)\n",
        "    y_test_enc  = y_test.astype(int)\n",
        "    print(\"Labels already numeric, skipping map.\")\n",
        "else:\n",
        "    # your old mapping logic\n",
        "    import pandas as pd\n",
        "    label_map = {'dropout': 0, 'enrolled': 1, 'graduate': 2}\n",
        "    s_train = pd.Series(y_train, name='outcome')\n",
        "    s_test  = pd.Series(y_test,  name='outcome')\n",
        "    y_train_enc = s_train.map(label_map)\n",
        "    y_test_enc  = s_test.map(label_map)\n",
        "\n",
        "    # catch any unmapped labels\n",
        "    unmapped_train = s_train[y_train_enc.isna()].unique()\n",
        "    unmapped_test  = s_test [y_test_enc.isna()].unique()\n",
        "    if len(unmapped_train):\n",
        "        raise ValueError(f\"Train labels not in map: {unmapped_train}\")\n",
        "    if len(unmapped_test):\n",
        "        raise ValueError(f\"Test  labels not in map: {unmapped_test}\")\n",
        "\n",
        "    y_train_enc = y_train_enc.astype(int).to_numpy()\n",
        "    y_test_enc  = y_test_enc.astype(int).to_numpy()\n",
        "\n",
        "# 3) Quick sanity check\n",
        "from collections import Counter\n",
        "print(\"Encoded train counts:\", Counter(y_train_enc))\n",
        "print(\"Encoded test  counts:\",  Counter(y_test_enc))\n",
        "\n",
        "\n",
        "# ─── B) One-hot encode your FEATURES ───\n",
        "X_train_enc = pd.get_dummies(X_train, drop_first=True)\n",
        "X_test_enc  = pd.get_dummies(X_test,  drop_first=True) \\\n",
        "                    .reindex(columns=X_train_enc.columns, fill_value=0)\n",
        "\n",
        "# ─── C) Show counts before SMOTE ───\n",
        "print(\"\\nBefore SMOTE:\", Counter(y_train_enc))\n",
        "\n",
        "# ─── D) Apply plain SMOTE on the TRAINING data only ───\n",
        "sm   = SMOTE(random_state=42)\n",
        "X_res, y_res = sm.fit_resample(X_train_enc, y_train_enc)\n",
        "print(\"After SMOTE: \", Counter(y_res))\n",
        "\n",
        "# ─── E) (Optional) Print your full/train/res counts side-by-side ───\n",
        "print(\"\\nFull dataset counts:\")\n",
        "print(df_labels['outcome'].value_counts().sort_index())\n",
        "\n",
        "print(\"\\nTraining split counts (80% stratified):\")\n",
        "train_counts = pd.Series(y_train_enc, name='outcome').value_counts().sort_index()\n",
        "print(train_counts)\n",
        "\n",
        "print(\"\\nAfter SMOTE (all up-sampled to majority class):\")\n",
        "res_counts = pd.Series(y_res, name='outcome').value_counts().sort_index()\n",
        "print(res_counts)\n",
        "\n",
        "# ─── F) Now y_res is a clean integer array 0/1/2 and X_res is numeric,\n",
        "#      you can plug X_res, y_res into your Optuna tune_* functions, CV, etc."
      ]
    },
    {
      "cell_type": "code",
      "execution_count": null,
      "metadata": {
        "id": "ixgeQ_NcRZDA"
      },
      "outputs": [],
      "source": [
        "import optuna\n",
        "import pandas as pd\n",
        "import numpy as np\n",
        "from sklearn.model_selection import cross_val_score, StratifiedKFold, train_test_split\n",
        "from sklearn.metrics import classification_report, accuracy_score\n",
        "from sklearn.ensemble import VotingClassifier, StackingClassifier\n",
        "from sklearn.linear_model import LogisticRegression\n",
        "from xgboost import XGBClassifier\n",
        "from lightgbm import LGBMClassifier\n",
        "from catboost import CatBoostClassifier"
      ]
    },
    {
      "cell_type": "code",
      "execution_count": null,
      "metadata": {
        "colab": {
          "base_uri": "https://localhost:8080/"
        },
        "id": "1Pp3CfvmP91k",
        "outputId": "7da80618-5e1b-4aa3-faca-6463ec2123a2"
      },
      "outputs": [
        {
          "name": "stderr",
          "output_type": "stream",
          "text": [
            "[I 2025-04-28 03:37:12,850] A new study created in memory with name: no-name-e29a1101-1438-42e5-870f-7b44578a41dd\n",
            "[I 2025-04-28 03:37:24,340] Trial 0 finished with value: 0.795970119894106 and parameters: {'n_estimators': 113, 'max_depth': 10, 'learning_rate': 0.003906245943407467, 'subsample': 0.8751559857589648, 'colsample_bytree': 0.6118609822192139, 'gamma': 2.241368452374459}. Best is trial 0 with value: 0.795970119894106.\n",
            "[I 2025-04-28 03:37:40,089] Trial 1 finished with value: 0.8067634626283253 and parameters: {'n_estimators': 211, 'max_depth': 8, 'learning_rate': 0.01095925474179685, 'subsample': 0.6184022235447326, 'colsample_bytree': 0.6907458374442448, 'gamma': 1.3928345272532794}. Best is trial 1 with value: 0.8067634626283253.\n",
            "[I 2025-04-28 03:37:49,861] Trial 2 finished with value: 0.7826900340480656 and parameters: {'n_estimators': 178, 'max_depth': 10, 'learning_rate': 0.0016499516300419585, 'subsample': 0.8830301512989474, 'colsample_bytree': 0.6030381168320939, 'gamma': 3.9635961153467907}. Best is trial 1 with value: 0.8067634626283253.\n",
            "[I 2025-04-28 03:37:51,766] Trial 3 finished with value: 0.7568518997108733 and parameters: {'n_estimators': 94, 'max_depth': 4, 'learning_rate': 0.015331880123346313, 'subsample': 0.7963458972027726, 'colsample_bytree': 0.940955926208343, 'gamma': 4.738566720824913}. Best is trial 1 with value: 0.8067634626283253.\n",
            "[I 2025-04-28 03:37:58,199] Trial 4 finished with value: 0.7661282544304016 and parameters: {'n_estimators': 213, 'max_depth': 5, 'learning_rate': 0.0010078518632818596, 'subsample': 0.9685145615235813, 'colsample_bytree': 0.7446952141294438, 'gamma': 1.1380381605678087}. Best is trial 1 with value: 0.8067634626283253.\n",
            "[I 2025-04-28 03:38:01,469] Trial 5 finished with value: 0.74294751295794 and parameters: {'n_estimators': 246, 'max_depth': 3, 'learning_rate': 0.005715453262934199, 'subsample': 0.6132430046548789, 'colsample_bytree': 0.7635998579455472, 'gamma': 2.5724942355833393}. Best is trial 1 with value: 0.8067634626283253.\n",
            "[I 2025-04-28 03:38:09,868] Trial 6 finished with value: 0.7816539646816388 and parameters: {'n_estimators': 225, 'max_depth': 7, 'learning_rate': 0.003364380087906068, 'subsample': 0.7149053477990056, 'colsample_bytree': 0.8213265485849239, 'gamma': 3.2486589235706944}. Best is trial 1 with value: 0.8067634626283253.\n",
            "[I 2025-04-28 03:38:14,524] Trial 7 finished with value: 0.8219964975029018 and parameters: {'n_estimators': 111, 'max_depth': 8, 'learning_rate': 0.056602860785414544, 'subsample': 0.6734513407712961, 'colsample_bytree': 0.9327594124323205, 'gamma': 1.6133719310411554}. Best is trial 7 with value: 0.8219964975029018.\n",
            "[I 2025-04-28 03:38:17,057] Trial 8 finished with value: 0.8024445164291801 and parameters: {'n_estimators': 198, 'max_depth': 3, 'learning_rate': 0.06499656461259874, 'subsample': 0.9006755981324247, 'colsample_bytree': 0.7585151218737809, 'gamma': 0.8391818761172987}. Best is trial 7 with value: 0.8219964975029018.\n",
            "[I 2025-04-28 03:38:21,174] Trial 9 finished with value: 0.7756490803816651 and parameters: {'n_estimators': 252, 'max_depth': 4, 'learning_rate': 0.012568386193818806, 'subsample': 0.6397676850318796, 'colsample_bytree': 0.6499362916025742, 'gamma': 2.8742209750266}. Best is trial 7 with value: 0.8219964975029018.\n",
            "[I 2025-04-28 03:38:26,931] Trial 10 finished with value: 0.8350704111593968 and parameters: {'n_estimators': 63, 'max_depth': 8, 'learning_rate': 0.09758965659181358, 'subsample': 0.7240036869317268, 'colsample_bytree': 0.982690468650629, 'gamma': 0.21601479417277036}. Best is trial 10 with value: 0.8350704111593968.\n",
            "[I 2025-04-28 03:38:31,070] Trial 11 finished with value: 0.8300757570780177 and parameters: {'n_estimators': 57, 'max_depth': 8, 'learning_rate': 0.08043824156181666, 'subsample': 0.7250005190937656, 'colsample_bytree': 0.9640038900423451, 'gamma': 0.0007561912328846454}. Best is trial 10 with value: 0.8350704111593968.\n",
            "[I 2025-04-28 03:38:35,190] Trial 12 finished with value: 0.8069432270176888 and parameters: {'n_estimators': 51, 'max_depth': 8, 'learning_rate': 0.03239111937320888, 'subsample': 0.7561226898805073, 'colsample_bytree': 0.9877476219867725, 'gamma': 0.1618086672757291}. Best is trial 10 with value: 0.8350704111593968.\n",
            "[I 2025-04-28 03:38:45,659] Trial 13 finished with value: 0.8527393766556406 and parameters: {'n_estimators': 297, 'max_depth': 6, 'learning_rate': 0.08998984225742736, 'subsample': 0.7193871852320958, 'colsample_bytree': 0.8549053872166582, 'gamma': 0.05999660642207596}. Best is trial 13 with value: 0.8527393766556406.\n",
            "[I 2025-04-28 03:38:57,039] Trial 14 finished with value: 0.8365137025860934 and parameters: {'n_estimators': 293, 'max_depth': 6, 'learning_rate': 0.030872001425627193, 'subsample': 0.809014576325543, 'colsample_bytree': 0.865971485914983, 'gamma': 0.5216255478269528}. Best is trial 13 with value: 0.8527393766556406.\n",
            "[I 2025-04-28 03:39:07,937] Trial 15 finished with value: 0.8368827977713647 and parameters: {'n_estimators': 297, 'max_depth': 6, 'learning_rate': 0.03021294189200461, 'subsample': 0.8316844568186259, 'colsample_bytree': 0.8657376701582433, 'gamma': 0.6514832309969487}. Best is trial 13 with value: 0.8527393766556406.\n",
            "[I 2025-04-28 03:39:14,661] Trial 16 finished with value: 0.8202811135138923 and parameters: {'n_estimators': 289, 'max_depth': 6, 'learning_rate': 0.030634803709485004, 'subsample': 0.8227608665335607, 'colsample_bytree': 0.8669213332061289, 'gamma': 1.7698772946596872}. Best is trial 13 with value: 0.8527393766556406.\n",
            "[I 2025-04-28 03:39:24,544] Trial 17 finished with value: 0.8055429843962763 and parameters: {'n_estimators': 270, 'max_depth': 5, 'learning_rate': 0.020279826009719445, 'subsample': 0.9636015382214239, 'colsample_bytree': 0.8837800292308419, 'gamma': 0.7730498319690726}. Best is trial 13 with value: 0.8527393766556406.\n",
            "[I 2025-04-28 03:39:28,393] Trial 18 finished with value: 0.8184984509988297 and parameters: {'n_estimators': 150, 'max_depth': 7, 'learning_rate': 0.054247142898789985, 'subsample': 0.8513734520409666, 'colsample_bytree': 0.8174986111071109, 'gamma': 1.8768126330615074}. Best is trial 13 with value: 0.8527393766556406.\n",
            "[I 2025-04-28 03:39:35,640] Trial 19 finished with value: 0.8267556087684802 and parameters: {'n_estimators': 265, 'max_depth': 5, 'learning_rate': 0.04169936159172999, 'subsample': 0.774312532646142, 'colsample_bytree': 0.9106644147167393, 'gamma': 1.098954269937467}. Best is trial 13 with value: 0.8527393766556406.\n",
            "[I 2025-04-28 03:39:35,642] A new study created in memory with name: no-name-84afc473-c381-4dc9-8d9a-84c058540ee8\n"
          ]
        },
        {
          "name": "stdout",
          "output_type": "stream",
          "text": [
            "Best XGB F1_macro: 0.8527\n"
          ]
        },
        {
          "name": "stderr",
          "output_type": "stream",
          "text": [
            "[I 2025-04-28 03:39:46,742] Trial 0 finished with value: 0.7949478892637757 and parameters: {'n_estimators': 253, 'max_depth': 8, 'learning_rate': 0.004806293402473033, 'num_leaves': 41, 'subsample': 0.7676379193259887, 'colsample_bytree': 0.8037663805871618}. Best is trial 0 with value: 0.7949478892637757.\n",
            "[I 2025-04-28 03:39:49,013] Trial 1 finished with value: 0.7713751600801197 and parameters: {'n_estimators': 169, 'max_depth': 4, 'learning_rate': 0.011334677702450098, 'num_leaves': 46, 'subsample': 0.6505731631693975, 'colsample_bytree': 0.6609674105654019}. Best is trial 0 with value: 0.7949478892637757.\n",
            "[I 2025-04-28 03:39:56,846] Trial 2 finished with value: 0.8249192784192634 and parameters: {'n_estimators': 280, 'max_depth': 8, 'learning_rate': 0.01371189517624848, 'num_leaves': 40, 'subsample': 0.7762506217927803, 'colsample_bytree': 0.7783078719316134}. Best is trial 2 with value: 0.8249192784192634.\n",
            "[I 2025-04-28 03:40:03,707] Trial 3 finished with value: 0.8424462620725673 and parameters: {'n_estimators': 255, 'max_depth': 9, 'learning_rate': 0.04331627189137767, 'num_leaves': 26, 'subsample': 0.6849856119761886, 'colsample_bytree': 0.6484245441691671}. Best is trial 3 with value: 0.8424462620725673.\n",
            "[I 2025-04-28 03:40:06,516] Trial 4 finished with value: 0.8206157159952653 and parameters: {'n_estimators': 118, 'max_depth': 6, 'learning_rate': 0.04177305332561295, 'num_leaves': 100, 'subsample': 0.9650406103425557, 'colsample_bytree': 0.8802127601704454}. Best is trial 3 with value: 0.8424462620725673.\n",
            "[I 2025-04-28 03:40:08,666] Trial 5 finished with value: 0.791203828686506 and parameters: {'n_estimators': 108, 'max_depth': 5, 'learning_rate': 0.021191859519981218, 'num_leaves': 24, 'subsample': 0.8942945059591811, 'colsample_bytree': 0.6239931325501892}. Best is trial 3 with value: 0.8424462620725673.\n",
            "[I 2025-04-28 03:40:14,531] Trial 6 finished with value: 0.7692720342745136 and parameters: {'n_estimators': 151, 'max_depth': 7, 'learning_rate': 0.0015183323317146118, 'num_leaves': 45, 'subsample': 0.923524588647541, 'colsample_bytree': 0.9929855435336452}. Best is trial 3 with value: 0.8424462620725673.\n",
            "[I 2025-04-28 03:40:17,281] Trial 7 finished with value: 0.7716547868599763 and parameters: {'n_estimators': 135, 'max_depth': 9, 'learning_rate': 0.0038185081268006754, 'num_leaves': 21, 'subsample': 0.7091531914652657, 'colsample_bytree': 0.8312757014752796}. Best is trial 3 with value: 0.8424462620725673.\n",
            "[I 2025-04-28 03:40:20,078] Trial 8 finished with value: 0.8077240975235395 and parameters: {'n_estimators': 85, 'max_depth': 7, 'learning_rate': 0.030228395030378816, 'num_leaves': 57, 'subsample': 0.9443282243281138, 'colsample_bytree': 0.9349530630352759}. Best is trial 3 with value: 0.8424462620725673.\n",
            "[I 2025-04-28 03:40:32,168] Trial 9 finished with value: 0.792169457039615 and parameters: {'n_estimators': 281, 'max_depth': 9, 'learning_rate': 0.0024641778293170023, 'num_leaves': 60, 'subsample': 0.7034770165156495, 'colsample_bytree': 0.9341854971925452}. Best is trial 3 with value: 0.8424462620725673.\n",
            "[I 2025-04-28 03:40:42,392] Trial 10 finished with value: 0.8582642378401777 and parameters: {'n_estimators': 218, 'max_depth': 10, 'learning_rate': 0.08687398683648928, 'num_leaves': 86, 'subsample': 0.6031838429267647, 'colsample_bytree': 0.7079991850523848}. Best is trial 10 with value: 0.8582642378401777.\n",
            "[I 2025-04-28 03:40:51,949] Trial 11 finished with value: 0.858035884318836 and parameters: {'n_estimators': 221, 'max_depth': 10, 'learning_rate': 0.09930487109581261, 'num_leaves': 87, 'subsample': 0.6086537987640541, 'colsample_bytree': 0.7089414891054673}. Best is trial 10 with value: 0.8582642378401777.\n",
            "[I 2025-04-28 03:41:01,135] Trial 12 finished with value: 0.8563471488684069 and parameters: {'n_estimators': 198, 'max_depth': 10, 'learning_rate': 0.09619604773376365, 'num_leaves': 89, 'subsample': 0.6064023080505052, 'colsample_bytree': 0.7320068247714306}. Best is trial 10 with value: 0.8582642378401777.\n",
            "[I 2025-04-28 03:41:10,907] Trial 13 finished with value: 0.8557535560004101 and parameters: {'n_estimators': 207, 'max_depth': 10, 'learning_rate': 0.09895761443615526, 'num_leaves': 78, 'subsample': 0.6150133943011374, 'colsample_bytree': 0.7147419745804068}. Best is trial 10 with value: 0.8582642378401777.\n",
            "[I 2025-04-28 03:41:20,099] Trial 14 finished with value: 0.8548565393864422 and parameters: {'n_estimators': 216, 'max_depth': 10, 'learning_rate': 0.061201712384231347, 'num_leaves': 75, 'subsample': 0.8464736330142028, 'colsample_bytree': 0.7103897493159874}. Best is trial 10 with value: 0.8582642378401777.\n",
            "[I 2025-04-28 03:41:21,194] Trial 15 finished with value: 0.7351616465105533 and parameters: {'n_estimators': 51, 'max_depth': 3, 'learning_rate': 0.020577416448871195, 'num_leaves': 80, 'subsample': 0.7393536579461182, 'colsample_bytree': 0.7609956787782568}. Best is trial 10 with value: 0.8582642378401777.\n",
            "[I 2025-04-28 03:41:28,814] Trial 16 finished with value: 0.8491471765496265 and parameters: {'n_estimators': 233, 'max_depth': 8, 'learning_rate': 0.06573828202656562, 'num_leaves': 100, 'subsample': 0.6567339517338739, 'colsample_bytree': 0.6769652742168629}. Best is trial 10 with value: 0.8582642378401777.\n",
            "[I 2025-04-28 03:41:39,096] Trial 17 finished with value: 0.8096714030839859 and parameters: {'n_estimators': 195, 'max_depth': 10, 'learning_rate': 0.0066341066566196205, 'num_leaves': 88, 'subsample': 0.8397567192056198, 'colsample_bytree': 0.6886865339492345}. Best is trial 10 with value: 0.8582642378401777.\n",
            "[I 2025-04-28 03:41:47,951] Trial 18 finished with value: 0.7756833149007379 and parameters: {'n_estimators': 297, 'max_depth': 6, 'learning_rate': 0.0010365442623133804, 'num_leaves': 68, 'subsample': 0.6004037771078515, 'colsample_bytree': 0.8272713027501298}. Best is trial 10 with value: 0.8582642378401777.\n",
            "[I 2025-04-28 03:41:54,541] Trial 19 finished with value: 0.8513424051536468 and parameters: {'n_estimators': 172, 'max_depth': 9, 'learning_rate': 0.05384269110892676, 'num_leaves': 90, 'subsample': 0.6495106813104253, 'colsample_bytree': 0.6025306671991483}. Best is trial 10 with value: 0.8582642378401777.\n",
            "[I 2025-04-28 03:41:54,543] A new study created in memory with name: no-name-273bd2d7-a14b-4e86-bcbb-17142e0f9162\n"
          ]
        },
        {
          "name": "stdout",
          "output_type": "stream",
          "text": [
            "Best LGB F1_macro: 0.8583\n"
          ]
        },
        {
          "name": "stderr",
          "output_type": "stream",
          "text": [
            "[I 2025-04-28 03:42:29,322] Trial 0 finished with value: 0.7772399503404882 and parameters: {'iterations': 176, 'depth': 8, 'learning_rate': 0.014988498405325864, 'l2_leaf_reg': 0.0011898529715995388}. Best is trial 0 with value: 0.7772399503404882.\n",
            "[I 2025-04-28 03:42:46,253] Trial 1 finished with value: 0.7133798828580211 and parameters: {'iterations': 91, 'depth': 8, 'learning_rate': 0.0010509193779588617, 'l2_leaf_reg': 0.0037857981509387202}. Best is trial 0 with value: 0.7772399503404882.\n",
            "[I 2025-04-28 03:42:57,101] Trial 2 finished with value: 0.7260746805482288 and parameters: {'iterations': 295, 'depth': 4, 'learning_rate': 0.006104456315834449, 'l2_leaf_reg': 0.024469909171220224}. Best is trial 0 with value: 0.7772399503404882.\n",
            "[I 2025-04-28 03:43:29,621] Trial 3 finished with value: 0.7371173002703557 and parameters: {'iterations': 175, 'depth': 8, 'learning_rate': 0.0046863353087929355, 'l2_leaf_reg': 0.6107651885898534}. Best is trial 0 with value: 0.7772399503404882.\n",
            "[I 2025-04-28 03:43:38,777] Trial 4 finished with value: 0.7116121956901144 and parameters: {'iterations': 181, 'depth': 5, 'learning_rate': 0.004071297784762682, 'l2_leaf_reg': 1.9915544386051323}. Best is trial 0 with value: 0.7772399503404882.\n",
            "[I 2025-04-28 03:44:28,047] Trial 5 finished with value: 0.733009371164432 and parameters: {'iterations': 260, 'depth': 8, 'learning_rate': 0.0038623495567425897, 'l2_leaf_reg': 6.9715933219926525}. Best is trial 0 with value: 0.7772399503404882.\n",
            "[I 2025-04-28 03:44:30,370] Trial 6 finished with value: 0.6890189999276576 and parameters: {'iterations': 58, 'depth': 3, 'learning_rate': 0.002369961854824766, 'l2_leaf_reg': 0.1138203125503833}. Best is trial 0 with value: 0.7772399503404882.\n",
            "[I 2025-04-28 03:44:34,081] Trial 7 finished with value: 0.7787231916295817 and parameters: {'iterations': 84, 'depth': 5, 'learning_rate': 0.07717606147243311, 'l2_leaf_reg': 0.020120292414563277}. Best is trial 7 with value: 0.7787231916295817.\n",
            "[I 2025-04-28 03:45:27,933] Trial 8 finished with value: 0.8430829071304892 and parameters: {'iterations': 159, 'depth': 9, 'learning_rate': 0.08616423734824069, 'l2_leaf_reg': 0.0019572251275971958}. Best is trial 8 with value: 0.8430829071304892.\n",
            "[I 2025-04-28 03:45:46,383] Trial 9 finished with value: 0.7963967893795785 and parameters: {'iterations': 269, 'depth': 6, 'learning_rate': 0.026995891906881266, 'l2_leaf_reg': 0.004449855458854901}. Best is trial 8 with value: 0.8430829071304892.\n",
            "[I 2025-04-28 03:47:14,120] Trial 10 finished with value: 0.8479795264226494 and parameters: {'iterations': 140, 'depth': 10, 'learning_rate': 0.09859914238565255, 'l2_leaf_reg': 0.11859948634185571}. Best is trial 10 with value: 0.8479795264226494.\n",
            "[I 2025-04-28 03:48:34,698] Trial 11 finished with value: 0.8427089542353159 and parameters: {'iterations': 129, 'depth': 10, 'learning_rate': 0.08591593957943705, 'l2_leaf_reg': 0.19580606939717912}. Best is trial 10 with value: 0.8479795264226494.\n",
            "[I 2025-04-28 03:49:56,848] Trial 12 finished with value: 0.8190099542671385 and parameters: {'iterations': 132, 'depth': 10, 'learning_rate': 0.0364166694145561, 'l2_leaf_reg': 0.026740408844984066}. Best is trial 10 with value: 0.8479795264226494.\n",
            "[I 2025-04-28 03:52:10,039] Trial 13 finished with value: 0.835597875997674 and parameters: {'iterations': 214, 'depth': 10, 'learning_rate': 0.043204829281797676, 'l2_leaf_reg': 0.4626935537725151}. Best is trial 10 with value: 0.8479795264226494.\n",
            "[I 2025-04-28 03:52:55,799] Trial 14 finished with value: 0.7822188194790265 and parameters: {'iterations': 136, 'depth': 9, 'learning_rate': 0.01865754964399531, 'l2_leaf_reg': 0.047926832673726945}. Best is trial 10 with value: 0.8479795264226494.\n",
            "[I 2025-04-28 03:54:10,520] Trial 15 finished with value: 0.8480930531429228 and parameters: {'iterations': 218, 'depth': 9, 'learning_rate': 0.09254509103059741, 'l2_leaf_reg': 0.007107695738520617}. Best is trial 15 with value: 0.8480930531429228.\n",
            "[I 2025-04-28 03:54:34,382] Trial 16 finished with value: 0.8192793298062538 and parameters: {'iterations': 220, 'depth': 7, 'learning_rate': 0.04842548883524431, 'l2_leaf_reg': 0.007931410334810565}. Best is trial 15 with value: 0.8480930531429228.\n",
            "[I 2025-04-28 03:55:46,682] Trial 17 finished with value: 0.7792482804455677 and parameters: {'iterations': 214, 'depth': 9, 'learning_rate': 0.010083818116390914, 'l2_leaf_reg': 0.01022446687889874}. Best is trial 15 with value: 0.8480930531429228.\n",
            "/usr/local/lib/python3.11/dist-packages/joblib/externals/loky/process_executor.py:752: UserWarning: A worker stopped while some jobs were given to the executor. This can be caused by a too short worker timeout or by a memory leak.\n",
            "  warnings.warn(\n",
            "[I 2025-04-28 03:56:14,737] Trial 18 finished with value: 0.8252241309071561 and parameters: {'iterations': 241, 'depth': 7, 'learning_rate': 0.0528797137921483, 'l2_leaf_reg': 0.0711699902731684}. Best is trial 15 with value: 0.8480930531429228.\n",
            "[I 2025-04-28 03:57:25,331] Trial 19 finished with value: 0.7876411382048812 and parameters: {'iterations': 113, 'depth': 10, 'learning_rate': 0.022572211893529828, 'l2_leaf_reg': 0.23942776924541362}. Best is trial 15 with value: 0.8480930531429228.\n"
          ]
        },
        {
          "name": "stdout",
          "output_type": "stream",
          "text": [
            "Best CAT F1_macro: 0.8481\n"
          ]
        }
      ],
      "source": [
        "# ─── 3) Set up a stratified CV splitter ───\n",
        "cv = StratifiedKFold(n_splits=5, shuffle=True, random_state=42)\n",
        "\n",
        "# ─── 4) Define tuning functions for Optuna ───\n",
        "def tune_xgb(trial):\n",
        "    params = {\n",
        "        'n_estimators':       trial.suggest_int('n_estimators', 50, 300),\n",
        "        'max_depth':          trial.suggest_int('max_depth', 3, 10),\n",
        "        'learning_rate':      trial.suggest_float('learning_rate', 1e-3, 1e-1, log=True),\n",
        "        'subsample':          trial.suggest_float('subsample', 0.6, 1.0),\n",
        "        'colsample_bytree':   trial.suggest_float('colsample_bytree', 0.6, 1.0),\n",
        "        'gamma':              trial.suggest_float('gamma', 0, 5),\n",
        "        'verbosity':          0,\n",
        "        'objective':          'multi:softprob',\n",
        "        'num_class':          3,\n",
        "        'eval_metric':        'mlogloss',\n",
        "        'random_state':       42\n",
        "    }\n",
        "    model = XGBClassifier(**params)\n",
        "    return cross_val_score(model, X_res, y_res, cv=cv, scoring='f1_macro', n_jobs=-1).mean()\n",
        "\n",
        "def tune_lgb(trial):\n",
        "    params = {\n",
        "        'n_estimators':     trial.suggest_int('n_estimators', 50, 300),\n",
        "        'max_depth':        trial.suggest_int('max_depth', 3, 10),\n",
        "        'learning_rate':    trial.suggest_float('learning_rate', 1e-3, 1e-1, log=True),\n",
        "        'num_leaves':       trial.suggest_int('num_leaves', 20, 100),\n",
        "        'subsample':        trial.suggest_float('subsample', 0.6, 1.0),\n",
        "        'colsample_bytree': trial.suggest_float('colsample_bytree', 0.6, 1.0),\n",
        "        'objective':        'multiclass',\n",
        "        'num_class':        3,\n",
        "        'eval_metric':      'multi_logloss',\n",
        "        'verbosity':        -1,\n",
        "        'random_state':     42\n",
        "    }\n",
        "    model = LGBMClassifier(**params)\n",
        "    return cross_val_score(model, X_res, y_res, cv=cv, scoring='f1_macro', n_jobs=-1).mean()\n",
        "\n",
        "def tune_cat(trial):\n",
        "    params = {\n",
        "        'iterations':    trial.suggest_int('iterations', 50, 300),\n",
        "        'depth':         trial.suggest_int('depth', 3, 10),\n",
        "        'learning_rate': trial.suggest_float('learning_rate', 1e-3, 1e-1, log=True),\n",
        "        'l2_leaf_reg':   trial.suggest_float('l2_leaf_reg', 1e-3, 10.0, log=True),\n",
        "        'loss_function': 'MultiClass',\n",
        "        'verbose':       False,\n",
        "        'random_seed':   42\n",
        "    }\n",
        "    model = CatBoostClassifier(**params)\n",
        "    return cross_val_score(model, X_res, y_res, cv=cv, scoring='f1_macro', n_jobs=-1).mean()\n",
        "\n",
        "# ─── 5) Run Optuna studies ───\n",
        "studies = {}\n",
        "for name, fn in [('XGB', tune_xgb), ('LGB', tune_lgb), ('CAT', tune_cat)]:\n",
        "    study = optuna.create_study(direction='maximize')\n",
        "    study.optimize(fn, n_trials=20)\n",
        "    studies[name] = study\n",
        "    print(f\"Best {name} F1_macro: {study.best_value:.4f}\")\n"
      ]
    },
    {
      "cell_type": "code",
      "execution_count": null,
      "metadata": {
        "colab": {
          "base_uri": "https://localhost:8080/"
        },
        "id": "mU5oCquEccJG",
        "outputId": "1c56bc7a-9b1b-4350-e899-e4d7536471ba"
      },
      "outputs": [
        {
          "name": "stdout",
          "output_type": "stream",
          "text": [
            "\n",
            "--- XGBoost on Test Set ---\n",
            "Accuracy: 0.7570621468926554\n",
            "              precision    recall  f1-score   support\n",
            "\n",
            "     dropout       0.80      0.73      0.76       284\n",
            "    enrolled       0.50      0.51      0.51       159\n",
            "    graduate       0.82      0.87      0.84       442\n",
            "\n",
            "    accuracy                           0.76       885\n",
            "   macro avg       0.71      0.70      0.70       885\n",
            "weighted avg       0.76      0.76      0.76       885\n",
            "\n",
            "\n",
            "--- LightGBM on Test Set ---\n",
            "Accuracy: 0.7638418079096045\n",
            "              precision    recall  f1-score   support\n",
            "\n",
            "     dropout       0.81      0.74      0.77       284\n",
            "    enrolled       0.51      0.50      0.51       159\n",
            "    graduate       0.82      0.87      0.85       442\n",
            "\n",
            "    accuracy                           0.76       885\n",
            "   macro avg       0.71      0.71      0.71       885\n",
            "weighted avg       0.76      0.76      0.76       885\n",
            "\n",
            "\n",
            "--- CatBoost on Test Set ---\n",
            "Accuracy: 0.7615819209039548\n",
            "              precision    recall  f1-score   support\n",
            "\n",
            "     dropout       0.83      0.72      0.77       284\n",
            "    enrolled       0.50      0.52      0.51       159\n",
            "    graduate       0.81      0.88      0.84       442\n",
            "\n",
            "    accuracy                           0.76       885\n",
            "   macro avg       0.72      0.70      0.71       885\n",
            "weighted avg       0.76      0.76      0.76       885\n",
            "\n"
          ]
        }
      ],
      "source": [
        "# ─── 6) Instantiate tuned models ───\n",
        "best_xgb = XGBClassifier(**studies['XGB'].best_params,\n",
        "                         verbosity=0,\n",
        "                         objective='multi:softprob',\n",
        "                         num_class=3,\n",
        "                         eval_metric='mlogloss',\n",
        "                         random_state=42)\n",
        "\n",
        "best_lgb = LGBMClassifier(**studies['LGB'].best_params,\n",
        "                          objective='multiclass',\n",
        "                          num_class=3,\n",
        "                          eval_metric='multi_logloss',\n",
        "                          verbosity=-1,\n",
        "                          random_state=42)\n",
        "\n",
        "best_cat = CatBoostClassifier(**studies['CAT'].best_params,\n",
        "                              loss_function='MultiClass',\n",
        "                              verbose=False,\n",
        "                              random_seed=42)\n",
        "\n",
        "# ─── 7) Fit & evaluate on the TEST set ───\n",
        "for name, model in [('XGBoost', best_xgb),\n",
        "                    ('LightGBM', best_lgb),\n",
        "                    ('CatBoost', best_cat)]:\n",
        "    model.fit(X_res, y_res)\n",
        "    y_pred = model.predict(X_test_enc)\n",
        "    print(f\"\\n--- {name} on Test Set ---\")\n",
        "    print(\"Accuracy:\", accuracy_score(y_test_enc, y_pred))\n",
        "    print(classification_report(y_test_enc, y_pred,\n",
        "                                target_names=label_map.keys()))"
      ]
    }
  ],
  "metadata": {
    "colab": {
      "provenance": []
    },
    "kernelspec": {
      "display_name": "Python 3",
      "name": "python3"
    },
    "language_info": {
      "name": "python"
    }
  },
  "nbformat": 4,
  "nbformat_minor": 0
}